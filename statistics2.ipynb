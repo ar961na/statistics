{
  "nbformat": 4,
  "nbformat_minor": 0,
  "metadata": {
    "colab": {
      "provenance": []
    },
    "kernelspec": {
      "name": "python3",
      "display_name": "Python 3"
    },
    "language_info": {
      "name": "python"
    }
  },
  "cells": [
    {
      "cell_type": "code",
      "execution_count": 145,
      "metadata": {
        "id": "NqEMTgRg6lCG"
      },
      "outputs": [],
      "source": [
        "import matplotlib.pyplot as plt\n",
        "import statistics\n",
        "import scipy.stats as sts\n",
        "import numpy as np"
      ]
    },
    {
      "cell_type": "code",
      "source": [
        "n = 100\n",
        "teta = 10\n",
        "beta = 0.95"
      ],
      "metadata": {
        "id": "BrWX6M8Y7feK"
      },
      "execution_count": 146,
      "outputs": []
    },
    {
      "cell_type": "markdown",
      "source": [
        "# Задача 4"
      ],
      "metadata": {
        "id": "5UO7OaB0BDgt"
      }
    },
    {
      "cell_type": "markdown",
      "source": [
        "вычисление точного доверительного интервала"
      ],
      "metadata": {
        "id": "EgPZJuxQ9AzZ"
      }
    },
    {
      "cell_type": "code",
      "source": [
        "def exact_interval(m_x):\n",
        "  t1,t2 = m_x.max() / (1 + (beta) ** (1/n)), m_x.max() / (1 + (1 - beta) ** (1/n))\n",
        "  print ('точный интервал: (' ,round(t1, 3),', ', round(t2, 3), ')')\n",
        "  return (round(t1, 3), round(t2, 3))"
      ],
      "metadata": {
        "id": "2M9kt8rN8yKW"
      },
      "execution_count": 147,
      "outputs": []
    },
    {
      "cell_type": "markdown",
      "source": [
        "вычисление асимптотического доверительного интервала по ОММ"
      ],
      "metadata": {
        "id": "8_-lUvNZ99FQ"
      }
    },
    {
      "cell_type": "code",
      "source": [
        "def asymp_interval_omm(m_x):\n",
        "  t1= 2 * np.sqrt(3*n) * np.mean(m_x) / (1.96 + 3*np.sqrt(3*n))\n",
        "  t2 = 2 * np.sqrt(3*n) * np.mean(m_x) / (-1.96+ 3*np.sqrt(3*n))\n",
        "  print ('Асимптотический интервал по ОММ: (', round(t1, 3), ', ', round(t2, 3), ')')\n",
        "  return (round(t1, 3), round(t2, 3))"
      ],
      "metadata": {
        "id": "5zziowUS98jx"
      },
      "execution_count": 148,
      "outputs": []
    },
    {
      "cell_type": "markdown",
      "source": [
        "вычисление асимптотического доверительного интервала по ОМП"
      ],
      "metadata": {
        "id": "366a0uBn-7OM"
      }
    },
    {
      "cell_type": "code",
      "source": [
        "def asymp_interval_omp(m_x):\n",
        "  t1 = ((n + 1) * np.max(m_x)) / ((2 * n + 1) * (1.96 / np.sqrt(n) + 1))\n",
        "  t2 = ((n + 1) * np.max(m_x)) / ((2 * n + 1) * (-1.96 / np.sqrt(n) + 1))\n",
        "  print('Асимптотический интервал по ОМП: (', round(t1, 3), ', ', round(t2, 3), ')')\n",
        "  return (round(t1, 3), round(t2, 3))"
      ],
      "metadata": {
        "id": "psbjc4Af--Q8"
      },
      "execution_count": 149,
      "outputs": []
    },
    {
      "cell_type": "markdown",
      "source": [
        "непараметричсекий бутстрап"
      ],
      "metadata": {
        "id": "edUGvldjCkVH"
      }
    },
    {
      "cell_type": "code",
      "source": [
        "def bootstrap(m_x):\n",
        "  delta = np.array([])\n",
        "  teta_ = 2/3 * m_x.mean()\n",
        "  for i in range(0, 1000):\n",
        "      sample = np.random.choice(m_x, size=m_x.shape[0]).round(3)\n",
        "      delta = np.append(delta, 2/3 * sample.mean() - teta_)\n",
        "  delta.sort()\n",
        "  t1, t2= teta_ - delta[974], teta_ - delta[24]\n",
        "  print('непараметрический бутстрап интервал: (', round(t1, 3), ', ', round(t2, 3), ')')\n",
        "  return (round(t1, 3), round(t2, 3))"
      ],
      "metadata": {
        "id": "JEiS0Sv-CmzD"
      },
      "execution_count": 150,
      "outputs": []
    },
    {
      "cell_type": "markdown",
      "source": [
        "генерация выборки"
      ],
      "metadata": {
        "id": "42S82dNz_7SV"
      }
    },
    {
      "cell_type": "code",
      "source": [
        "x = np.random.uniform(teta, 2 * teta, n)\n",
        "x = x.round(3)"
      ],
      "metadata": {
        "id": "ohe5aytE780W"
      },
      "execution_count": 151,
      "outputs": []
    },
    {
      "cell_type": "markdown",
      "source": [
        "точный интервал:"
      ],
      "metadata": {
        "id": "YgngGp4Q8qNX"
      }
    },
    {
      "cell_type": "code",
      "source": [
        "e_int = exact_interval(x)"
      ],
      "metadata": {
        "colab": {
          "base_uri": "https://localhost:8080/"
        },
        "id": "-YwdeBA98X-i",
        "outputId": "7b8c9aba-cd8d-4356-eb68-871a83253c11"
      },
      "execution_count": 152,
      "outputs": [
        {
          "output_type": "stream",
          "name": "stdout",
          "text": [
            "точный интервал: ( 9.981 ,  10.127 )\n"
          ]
        }
      ]
    },
    {
      "cell_type": "code",
      "source": [
        "a_int_omm = asymp_interval_omm(x)"
      ],
      "metadata": {
        "colab": {
          "base_uri": "https://localhost:8080/"
        },
        "id": "qxanACTEAULl",
        "outputId": "223cc0e1-175c-4983-c60b-da724fdc2ff4"
      },
      "execution_count": 153,
      "outputs": [
        {
          "output_type": "stream",
          "name": "stdout",
          "text": [
            "Асимптотический интервал по ОММ: ( 9.607 ,  10.36 )\n"
          ]
        }
      ]
    },
    {
      "cell_type": "code",
      "source": [
        "a_int_omp = asymp_interval_omp(x)"
      ],
      "metadata": {
        "colab": {
          "base_uri": "https://localhost:8080/"
        },
        "id": "7XuoGIXpAaBC",
        "outputId": "8642e66c-3620-4d61-904a-a112d0f2129f"
      },
      "execution_count": 154,
      "outputs": [
        {
          "output_type": "stream",
          "name": "stdout",
          "text": [
            "Асимптотический интервал по ОМП: ( 8.384 ,  12.472 )\n"
          ]
        }
      ]
    },
    {
      "cell_type": "code",
      "source": [
        "b_int = bootstrap(x)"
      ],
      "metadata": {
        "colab": {
          "base_uri": "https://localhost:8080/"
        },
        "id": "DV2N-ahiAdsj",
        "outputId": "292a6921-5f4d-4742-8337-dc403a47e374"
      },
      "execution_count": 155,
      "outputs": [
        {
          "output_type": "stream",
          "name": "stdout",
          "text": [
            "непараметрический бутстрап интервал: ( 9.59 ,  10.356 )\n"
          ]
        }
      ]
    },
    {
      "cell_type": "markdown",
      "source": [
        "Сравнение"
      ],
      "metadata": {
        "id": "KEbAXwSEE8Mp"
      }
    },
    {
      "cell_type": "code",
      "source": [
        "fig, ax = plt.subplots(figsize=(8,5))\n",
        "ax.plot([e_int[0], e_int[1]], [3, 3], label = f'точный {np.round(np.abs(e_int[0]-  e_int[1]), 3)}')\n",
        "ax.plot([a_int_omm[0], a_int_omm[1]], [2, 2], label = f'асимптотический омм {np.round(np.abs(a_int_omm[0]-  a_int_omm[1]), 3)}')\n",
        "ax.plot([a_int_omp[0], a_int_omp[1]], [1, 1], label = f'асимптотический омп {np.round(np.abs(a_int_omp[0]-  a_int_omp[1]), 3)}')\n",
        "ax.plot([b_int[0], b_int[1]], [0, 0], label = f'бутстрап {np.round(np.abs(b_int[0]-  b_int[1]), 3)}')\n",
        "ax.plot([teta, teta], [0,3], label = 'тета')\n",
        "ax.set_title('Сравнение')\n",
        "ax.set_xlabel('тета')\n",
        "ax.legend();"
      ],
      "metadata": {
        "colab": {
          "base_uri": "https://localhost:8080/",
          "height": 487
        },
        "id": "M18X2sGuENLb",
        "outputId": "aa49a9ca-02d2-4688-ccfe-da3ec93021a3"
      },
      "execution_count": 156,
      "outputs": [
        {
          "output_type": "display_data",
          "data": {
            "text/plain": [
              "<Figure size 800x500 with 1 Axes>"
            ],
            "image/png": "[encoded data removed]"
          },
          "metadata": {}
        }
      ]
    },
    {
      "cell_type": "markdown",
      "source": [
        "# Задача 5"
      ],
      "metadata": {
        "id": "FimElsmvIQrt"
      }
    },
    {
      "cell_type": "code",
      "source": [
        "x = sts.pareto(b = teta).rvs(n)\n",
        "teta_ = n / np.sum(np.log(x)) + 1             #оценка омп"
      ],
      "metadata": {
        "id": "_VK8WQdbIqNL"
      },
      "execution_count": 157,
      "outputs": []
    },
    {
      "cell_type": "markdown",
      "source": [
        "асимптотический интервал омп для тета"
      ],
      "metadata": {
        "id": "mcvztsPPKo0j"
      }
    },
    {
      "cell_type": "code",
      "source": [
        "def asymp_interval_teta(m_x):\n",
        "  t1 = teta_ - 1.96 * (teta_ - 1) / (n ** 0.5)\n",
        "  t2 = teta_ + 1.96 * (teta_ - 1) / (n ** 0.5)\n",
        "  print('aсимпотический интервал для тета: (', round(t1, 3), ', ', round(t2, 3), ')')\n",
        "  print('teta', round(teta_, 3))\n",
        "  return (round(t1, 3), round(t2, 3))"
      ],
      "metadata": {
        "id": "9tWz-Q-0KiYx"
      },
      "execution_count": 158,
      "outputs": []
    },
    {
      "cell_type": "markdown",
      "source": [
        "доверительный интервал для медианы"
      ],
      "metadata": {
        "id": "StVZby6iKnkJ"
      }
    },
    {
      "cell_type": "code",
      "source": [
        "def med_int (m_x):\n",
        "  t1 = 2 **(1 / (teta_ - 1)) * (1 - 1.97 * np.log(2) / (np.sqrt(n) * (teta_ - 1)))\n",
        "  t2 = 2 **(1 / (teta_ - 1)) * (1 + 1.97 * np.log(2) / (np.sqrt(n) * (teta_ - 1)))\n",
        "  print('Доверительный интервал для медианы: (', round(t1, 3), ',', round(t2, 3), ')')\n",
        "  x_med = (np.sort(m_x)[49] + np.sort(m_x)[48]) / 2\n",
        "  print(\"x_med\", round(x_med, 3))"
      ],
      "metadata": {
        "id": "hAAVg023I3d6"
      },
      "execution_count": 159,
      "outputs": []
    },
    {
      "cell_type": "markdown",
      "source": [
        "параметрический бутстрап"
      ],
      "metadata": {
        "id": "RrAlCtNXG1me"
      }
    },
    {
      "cell_type": "code",
      "source": [
        "def param_bootsrap(m_x):\n",
        "  delta_p=[]\n",
        "  m = 10000\n",
        "  for i in range(m):\n",
        "      sample = sts.pareto(b=teta).rvs(n)\n",
        "      delta = n / np.sum(np.log(sample)) + 1 - teta_\n",
        "      delta_p.append(delta)\n",
        "  k1 = int((1 - beta) / 2 * m)\n",
        "  k2 = int((1 + beta) / 2 * m)\n",
        "  t1 = teta_ + np.sort(np.array(delta_p))[k1]\n",
        "  t2 = teta_ + np.sort(np.array(delta_p))[k2]\n",
        "  print('параметрический бутстрап интервал: (', round(t1, 3), ', ', round(t2, 3), ')')\n",
        "  print('тета', teta)\n",
        "  return (round(t1, 3), round(t2, 3))"
      ],
      "metadata": {
        "id": "Fgi_NsR6G1JT"
      },
      "execution_count": 160,
      "outputs": []
    },
    {
      "cell_type": "markdown",
      "source": [
        "непараметрический бутстрап"
      ],
      "metadata": {
        "id": "FITPskVVMXMI"
      }
    },
    {
      "cell_type": "code",
      "source": [
        "def non_param_bootstrap(m_x):\n",
        "  s_delta = []\n",
        "  for i in range(1000):\n",
        "    sample = np.random.choice(m_x, n)\n",
        "    delta = n / np.sum(np.log(sample)) + 1\n",
        "    s_delta.append(delta - teta_)\n",
        "  t1 = teta_ - np.sort(np.array(s_delta))[24]\n",
        "  t2 = teta_ - np.sort(np.array(s_delta))[974]\n",
        "  print('непараметрический бутстрап интервал: (', round(t1, 3), ', ', round(t2, 3), ')')\n",
        "  print('тета', teta)\n",
        "  return (round(t1, 3), round(t2, 3))"
      ],
      "metadata": {
        "id": "dmFvnoHhMaDv"
      },
      "execution_count": 161,
      "outputs": []
    },
    {
      "cell_type": "code",
      "source": [
        "med_int(x)"
      ],
      "metadata": {
        "colab": {
          "base_uri": "https://localhost:8080/"
        },
        "id": "EuMEJt3gJ7sO",
        "outputId": "ee84ee7f-586b-4a99-885f-6edeaa8d0301"
      },
      "execution_count": 162,
      "outputs": [
        {
          "output_type": "stream",
          "name": "stdout",
          "text": [
            "Доверительный интервал для медианы: ( 1.064 , 1.097 )\n",
            "x_med 1.088\n"
          ]
        }
      ]
    },
    {
      "cell_type": "code",
      "source": [
        "a_int = asymp_interval_teta(x)"
      ],
      "metadata": {
        "colab": {
          "base_uri": "https://localhost:8080/"
        },
        "id": "FKZdamuSJ94d",
        "outputId": "b4eda7e9-ac7f-40a8-c2fd-1119513102ac"
      },
      "execution_count": 163,
      "outputs": [
        {
          "output_type": "stream",
          "name": "stdout",
          "text": [
            "aсимпотический интервал для тета: ( 8.223 ,  11.744 )\n",
            "teta 9.983\n"
          ]
        }
      ]
    },
    {
      "cell_type": "code",
      "source": [
        "b_non_int = non_param_bootstrap(x)"
      ],
      "metadata": {
        "colab": {
          "base_uri": "https://localhost:8080/"
        },
        "id": "e0OxIYgJLfVP",
        "outputId": "ec862634-8c25-42ad-b363-5ddbd109f9b1"
      },
      "execution_count": 164,
      "outputs": [
        {
          "output_type": "stream",
          "name": "stdout",
          "text": [
            "непараметрический бутстрап интервал: ( 11.415 ,  8.014 )\n",
            "тета 10\n"
          ]
        }
      ]
    },
    {
      "cell_type": "code",
      "source": [
        "b_par_int = param_bootsrap(x)"
      ],
      "metadata": {
        "colab": {
          "base_uri": "https://localhost:8080/"
        },
        "id": "qsMdwx0eL11P",
        "outputId": "cae5b071-1859-485c-8590-284e6d65b0bc"
      },
      "execution_count": 165,
      "outputs": [
        {
          "output_type": "stream",
          "name": "stdout",
          "text": [
            "параметрический бутстрап интервал: ( 9.307 ,  13.288 )\n",
            "тета 10\n"
          ]
        }
      ]
    },
    {
      "cell_type": "markdown",
      "source": [
        "сравнение"
      ],
      "metadata": {
        "id": "0lYEbh_mOBdx"
      }
    },
    {
      "cell_type": "code",
      "source": [
        "fig1, ax1 = plt.subplots(figsize=(8,5))\n",
        "ax1.plot([a_int[0], a_int[1]], [2, 2], label = f'асимптотический омп {np.round(np.abs(a_int[0]-  a_int[1]), 3)}')\n",
        "ax1.plot([b_non_int[0], b_non_int[1]], [1, 1], label = f'непараметрический бутстрап {np.round(np.abs(b_non_int[0] - b_non_int[1]), 3)}')\n",
        "ax1.plot([b_par_int[0], b_par_int[1]], [0, 0], label = f'параметрический бутстрап {np.round(np.abs(b_par_int[0]-  b_par_int[1]), 3)}')\n",
        "ax1.plot([teta_, teta_], [0,3], label = 'тета')\n",
        "ax1.set_title('Сравнение')\n",
        "ax1.set_xlabel('тета')\n",
        "ax1.legend();"
      ],
      "metadata": {
        "colab": {
          "base_uri": "https://localhost:8080/",
          "height": 487
        },
        "id": "0AqnhXVaL59p",
        "outputId": "c7d12c5f-bfa5-4526-8e77-f54ac1fb01aa"
      },
      "execution_count": 167,
      "outputs": [
        {
          "output_type": "display_data",
          "data": {
            "text/plain": [
              "<Figure size 800x500 with 1 Axes>"
            ],
            "image/png": "[encoded data removed]"
          },
          "metadata": {}
        }
      ]
    },
    {
      "cell_type": "code",
      "source": [],
      "metadata": {
        "id": "6X1LIhw7Oh4-"
      },
      "execution_count": 166,
      "outputs": []
    }
  ]
}